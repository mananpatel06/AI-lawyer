{
  "cells": [
    {
      "cell_type": "code",
      "execution_count": null,
      "metadata": {
        "colab": {
          "base_uri": "https://localhost:8080/"
        },
        "id": "p6gLCgwi0k0C",
        "outputId": "4edc5a69-c8a9-4eed-c18c-da0bc639472b"
      },
      "outputs": [],
      "source": [
        "pip install -qU pypdf"
      ]
    },
    {
      "cell_type": "code",
      "execution_count": null,
      "metadata": {
        "colab": {
          "base_uri": "https://localhost:8080/"
        },
        "id": "H8o0L7tY0160",
        "outputId": "c816b09f-44be-4cee-b220-5fecf064bbc9"
      },
      "outputs": [],
      "source": [
        "pip install -U langchain-community"
      ]
    },
    {
      "cell_type": "code",
      "execution_count": null,
      "metadata": {
        "colab": {
          "base_uri": "https://localhost:8080/"
        },
        "id": "n94o5Q2q0wFX",
        "outputId": "3a649d36-f713-4526-f731-89c23e832174"
      },
      "outputs": [],
      "source": [
        "from langchain_community.document_loaders import PyPDFLoader\n",
        "\n",
        "loader = PyPDFLoader(\"/content/india.pdf\")\n",
        "pages = []\n",
        "async for page in loader.alazy_load():\n",
        "    pages.append(page)\n",
        "\n",
        "print(f\"{pages[0].metadata}\\n\")\n",
        "print(pages[0].page_content)"
      ]
    },
    {
      "cell_type": "code",
      "execution_count": null,
      "metadata": {
        "id": "9FKfdtjG1SH3"
      },
      "outputs": [],
      "source": [
        "pip install -qU langchain-text-splitters"
      ]
    },
    {
      "cell_type": "code",
      "execution_count": null,
      "metadata": {
        "colab": {
          "base_uri": "https://localhost:8080/"
        },
        "id": "WFLtjhOtPnBM",
        "outputId": "b013cdaf-12b8-4ee3-c0f9-84a4c479c30b"
      },
      "outputs": [],
      "source": [
        "from langchain_text_splitters import RecursiveCharacterTextSplitter\n",
        "\n",
        "text_splitter = RecursiveCharacterTextSplitter(\n",
        "    # NVDIA model NV-Embed-QA only support 512 chunk size \n",
        "    chunk_size=500,\n",
        "    chunk_overlap=200,\n",
        ")\n",
        "\n",
        "docs = text_splitter.split_documents(pages)\n",
        "print(docs)\n",
        "len(docs)\n"
      ]
    },
    {
      "cell_type": "code",
      "execution_count": null,
      "metadata": {
        "colab": {
          "base_uri": "https://localhost:8080/"
        },
        "id": "Qxl08U9gR7DD",
        "outputId": "6e9dc9ec-ee7b-40f0-b2fb-82fe995bb3b3"
      },
      "outputs": [],
      "source": [
        "pip install astrapy"
      ]
    },
    {
      "cell_type": "code",
      "execution_count": null,
      "metadata": {
        "colab": {
          "base_uri": "https://localhost:8080/"
        },
        "id": "nos59aGeQ_cS",
        "outputId": "574ecf95-3e58-4f3e-e52a-cd9bd60a60d5"
      },
      "outputs": [],
      "source": [
        "import os\n",
        "from astrapy import DataAPIClient\n",
        "from astrapy.constants import VectorMetric\n",
        "from astrapy.info import CollectionVectorServiceOptions\n",
        "from google.colab import userdata\n",
        "\n",
        "# Initialize the client and get a \"Database\" object\n",
        "client = DataAPIClient(userdata.get(\"ASTRA_DB_APPLICATION_TOKEN\"))\n",
        "database = client.get_database(userdata.get(\"ASTRA_DB_API_ENDPOINT\"))\n",
        "print(f\"* Database: {database.info().name}\\n\")\n",
        "\n",
        "collection = database.create_collection(\n",
        "    \"aiLawyer\", # Write any name for databse\n",
        "    metric=VectorMetric.COSINE,\n",
        "    service=CollectionVectorServiceOptions(\n",
        "        provider=\"nvidia\",\n",
        "        model_name=\"NV-Embed-QA\",\n",
        "    ),\n",
        ")\n",
        "print(f\"* Collection: {collection.full_name}\\n\")"
      ]
    },
    {
      "cell_type": "code",
      "execution_count": null,
      "metadata": {
        "colab": {
          "base_uri": "https://localhost:8080/"
        },
        "id": "c9O2bnW9TSK6",
        "outputId": "9a7e43d9-d0ac-4815-da6c-d65e7a51ffbb"
      },
      "outputs": [],
      "source": [
        "# Creating array of object ex:- [{\"$vectorize\": \"chunk data\"}] and using insert many query insert data into db\n",
        "def split_text_into_chunks(text):\n",
        "    chunks = []\n",
        "    for chunk in docs:\n",
        "        chunks.append({\"$vectorize\": f\"{chunk}\"})\n",
        "        print(chunk)\n",
        "    return chunks\n",
        "\n",
        "data = split_text_into_chunks(docs)"
      ]
    },
    {
      "cell_type": "code",
      "execution_count": null,
      "metadata": {
        "colab": {
          "base_uri": "https://localhost:8080/"
        },
        "id": "ICcc9q_rUfg2",
        "outputId": "cbbc9354-9535-4a9f-a85a-90f6975c5d6d"
      },
      "outputs": [],
      "source": [
        "print(len(data))"
      ]
    },
    {
      "cell_type": "code",
      "execution_count": null,
      "metadata": {
        "colab": {
          "base_uri": "https://localhost:8080/",
          "height": 297
        },
        "id": "JxePV-l7V2R2",
        "outputId": "3465babd-e460-42f6-90f5-a05a885a5659"
      },
      "outputs": [],
      "source": [
        "insertion_result = collection.insert_many(data)"
      ]
    },
    {
      "cell_type": "code",
      "execution_count": null,
      "metadata": {
        "colab": {
          "base_uri": "https://localhost:8080/"
        },
        "id": "0in9ZXDahjBR",
        "outputId": "7e92ba6e-e0b3-4a2c-bb35-9e8e7a4191f0"
      },
      "outputs": [
        {
          "name": "stdout",
          "output_type": "stream",
          "text": [
            "Vector search results for 'what to do if some one make fasle case ?':\n"
          ]
        }
      ],
      "source": [
        "# Perform a similarity search\n",
        "query = \"what to do if some one make fasle case ?\"\n",
        "results = collection.find(\n",
        "    sort={\"$vectorize\": query},\n",
        "    limit=10,\n",
        "    projection={\"$vectorize\": True},\n",
        ")\n",
        "print(f\"Vector search results for '{query}':\")\n"
      ]
    },
    {
      "cell_type": "code",
      "execution_count": null,
      "metadata": {
        "colab": {
          "base_uri": "https://localhost:8080/"
        },
        "id": "tqpODfjFiCmJ",
        "outputId": "0c3a66f7-d941-4640-af94-c7938c703ccd"
      },
      "outputs": [
        {
          "name": "stdout",
          "output_type": "stream",
          "text": [
            "Cursor(\"aiLawyer\", idle, consumed so far: 0)\n"
          ]
        }
      ],
      "source": [
        "print(results)"
      ]
    },
    {
      "cell_type": "code",
      "execution_count": null,
      "metadata": {
        "colab": {
          "base_uri": "https://localhost:8080/"
        },
        "id": "xDeusK88mWq7",
        "outputId": "b674953e-57d7-4976-a2f5-aa473c3756b5"
      },
      "outputs": [
        {
          "name": "stdout",
          "output_type": "stream",
          "text": [
            "     {'_id': 'a68f2576-5691-4811-8f25-7656915811c1', '$vectorize': \"page_content='to be decided by the Supreme Court.](2) Notwithstanding anything in article 132, any party appealing to the Supreme Court under clause (1) may urge as one of the grounds in such appeal that a substantial question of law as to the interpretation of this Constitution has been wrongly decided. (3) Notwithstanding anything in this article, no appeal shall, unless Parliament by law otherwise provides, lie to the Supreme Court from the judgment, decree or final order of one Judge of a High Court.134. Appellate jurisdiction of the Supreme Court in regard to criminal matters.—(1) An appeal shall lie to the Supreme Court from any judgment, final order or sentence in a criminal proceeding of a High Court in the territory of India if the High Court—(a) has on appeal reversed an order of acquittal of an accused person and sentenced him to death; or (b) has withdrawn for trial before itself any case from any court subordinate to its authority and has in such trial convicted the accused person and' metadata={'source': '/content/india.pdf', 'page': 92}\"}\n",
            "     {'_id': 'f6fe18c4-67cf-495f-be18-c467cf095f83', '$vectorize': \"page_content='heard in respect of those charges2***:3[Provided that where it is proposed after such inquiry, to impose upon him any such penalty, such penalty may be imposed on the basis of the evidence adduced during such inquiry and it shall not be necessary to give such person any opportunity of making  representation on  the penalty proposed:Provided further that this clause shall not apply—](a) where a person is dismissed or removed or reduced in rank on the ground of conduct which has led to his conviction on a criminal charge; or(b)where the authority empowered to dismiss or remove a person or to reduce him in rank is satisfied that for some reason, to be recorded by that authority in writing, it is not  reasonably practicable to hold such inquiry; or(c) where the President or the Governor, as the case may be, is satisfied that in the interest of the security of the State it is not expedient to hold such inquiry.(3) If, in respect of any such person as aforesaid, a question arises whether it' metadata={'source': '/content/india.pdf', 'page': 204}\"}\n",
            "     {'_id': 'fe46175c-6628-4267-8617-5c66281267bc', '$vectorize': \"page_content='the final disposal of the case.133. Appellate jurisdiction of the Supreme Court in appeals from High Courts in regard to civil matters.—3[(1) An appeal shall lie to the Supreme Court from any judgment, decree or final order in a civil proceeding of a High Court in the territory of India 4[if the High Court certifies under article   134A—] (a) that the case involves a substantial question of law of general importance; and(b) that in the opinion of the High Court the said question needs to be decided by the Supreme Court.](2) Notwithstanding anything in article 132, any party appealing to the Supreme Court under clause (1) may urge as one of the grounds in such appeal that a substantial question of law as to the interpretation of this Constitution has been wrongly decided. (3) Notwithstanding anything in this article, no appeal shall, unless Parliament by law otherwise provides, lie to the Supreme Court from the judgment, decree or final order of one Judge of a High Court.134. Appellate' metadata={'source': '/content/india.pdf', 'page': 92}\"}\n",
            "     {'_id': '336d341a-3c0f-4f78-ad34-1a3c0f8f78aa', '$vectorize': \"page_content='THE CONSTITUTION OF  INDIA(Part III.—Fundamental Rights)12(2) Every person who is arrested and detained in custody shall be produced before the nearest magistrate within a period of twenty-four hours of such arrest excluding the time necessary for the journey from the place of arrest to the court of the magistrate and no such person shall be detained in custody beyond the said period without the authority of a magistrate.(3) Nothing in clauses (1) and (2) shall apply—(a) to any person who for the time being is an enemy alien; or(b) to any person who is arrested or detained under any law providing for preventive detention.(4) No law providing for preventive detention shall authorise the detention of a person for a longer period than three months unless—(a) an Advisory Board consisting of persons who are, or have been, or are qualified to be appointed as, Judges of a High Court has reported before the expiration of the said period of three months that there is in its opinion sufficient' metadata={'source': '/content/india.pdf', 'page': 42}\"}\n",
            "     {'_id': 'b19cd802-44fa-4056-9cd8-0244fac0568d', '$vectorize': \"page_content='THE CONSTITUTION OF  INDIA(Part V.—The Union)621(2)*                       *                      *                       *      *(3) Where such a certificate is given, 2*** any party in the case may appeal to the Supreme Court on the ground that any such question as aforesaid has been wrongly decided2***.Explanation.—For the purposes of this article, the expression “final order” includes an order deciding an issue which, if decided in favour of the appellant, would be sufficient for the final disposal of the case.133. Appellate jurisdiction of the Supreme Court in appeals from High Courts in regard to civil matters.—3[(1) An appeal shall lie to the Supreme Court from any judgment, decree or final order in a civil proceeding of a High Court in the territory of India 4[if the High Court certifies under article   134A—] (a) that the case involves a substantial question of law of general importance; and(b) that in the opinion of the High Court the said question needs to be decided by the' metadata={'source': '/content/india.pdf', 'page': 92}\"}\n",
            "     {'_id': '61787208-054f-450d-b872-08054f850d62', '$vectorize': \"page_content='THE CONSTITUTION OF  INDIA(Part III.—Fundamental Rights)13Provided that nothing in this sub-clause shall authorise the detention of any person beyond the maximum period prescribed by any law made by Parliament under sub-clause (b) of clause (7); or(b) such person is detained in accordance with the provisions of any law made by Parliament under sub-clauses (a) and (b) of clause (7).(5) When any person is detained in pursuance of an order made under any law providing for preventive detention, the authority making the order shall, as soon as may be, communicate to such person the grounds on which the order has been made and shall afford him the earliest opportunity of making a representation against the order.(6) Nothing in clause (5) shall require the authority making any such order as is referred to in that clause to disclose facts which such authority considers to be against the public interest to disclose.(7) Parliament may by law prescribe—(a) the circumstances under which, and the' metadata={'source': '/content/india.pdf', 'page': 43}\"}\n",
            "     {'_id': '64a9e2fb-bbda-4e4a-a9e2-fbbbda2e4a23', '$vectorize': \"page_content='requirements of article 188, or when he knows that he is not qualified or that he is disqualified for membership thereof, or that he is prohibited from so doing by the provisions of any law made by Parliament or the Legislature of the State, he shall be liable in respect of each day on which he so sits or votes to a penalty of five hundred rupees to be recovered as a debt due to the State.Powers, Privileges and Immunities of State Legislaturesand their Members194. Powers, privileges, etc., of the Houses of Legislatures and of the members and committees thereof.—(1) Subject to the provisions of this Constitution and to the rules and standing orders regulating the procedure of the Legislature, there shall be freedom of speech in the Legislature of every State.(2) No member of the Legislature of a State shall be liable to any proceedings in any court in respect of anything said or any vote given by him in the Legislature or any committee thereof, and no person shall be so liable in' metadata={'source': '/content/india.pdf', 'page': 117}\"}\n",
            "     {'_id': '9185e2ba-73db-48c7-85e2-ba73dbb8c70b', '$vectorize': \"page_content='the attendance of any person, the discovery or production of any documents, or the investigation or punishment of any contempt of itself. 143. Power of the President to consult the Supreme Court.—(1) If at any time it appears to the President that a question of law or fact has arisen, or is likely to arise, which is of such a nature and of such public importance that it is expedient to obtain the opinion of the Supreme Court upon it, he may refer the question to that Court for consideration and the Court may, after such hearing as it thinks fit, report to the President its opinion thereon.(2) The President may, notwithstanding anything in 2*** the proviso to article 131, refer a dispute of the kind mentioned in the 3[said proviso] to the Supreme Court for opinion and the Supreme Court shall, after such hearing as it thinks fit, report to the President its opinion thereon. 144. Civil and judicial authorities to act in aid of the Supreme Court.—All authorities, civil and judicial, in' metadata={'source': '/content/india.pdf', 'page': 95}\"}\n",
            "     {'_id': '7882c91c-71b9-48fe-82c9-1c71b968fe34', '$vectorize': \"page_content='or a State.—(1) No person who is a member of a civil service of the  Union or an all-India service or a civil service of a  State or holds a civil post under  the Union or a State shall be dismissed or removed by an authority subordinate to that by which he was appointed.  1[(2) No such person  as aforesaid shall be dismissed or removed or reduced in rank except after an inquiry in which he has been informed of the charges against him and given a reasonable  opportunity of being heard in respect of those charges2***:3[Provided that where it is proposed after such inquiry, to impose upon him any such penalty, such penalty may be imposed on the basis of the evidence adduced during such inquiry and it shall not be necessary to give such person any opportunity of making  representation on  the penalty proposed:Provided further that this clause shall not apply—](a) where a person is dismissed or removed or reduced in rank on the ground of conduct which has led to his conviction on a' metadata={'source': '/content/india.pdf', 'page': 204}\"}\n",
            "     {'_id': 'adc83805-5c61-4bfd-8838-055c611bfd14', '$vectorize': \"page_content='to a Court constituted as required by this clause for the purpose of deciding any case involving such a question and shall on receipt of the opinion dispose of the appeal in conformity with such opinion.(4) No judgment shall be delivered by the Supreme Court save in open Court, and no report shall be made under article 143 save in accordance with an opinion also delivered in open Court.(5) No judgment and no such opinion shall be delivered by the Supreme Court save with the concurrence of a majority of the Judges present at the hearing of the case, but nothing in this clause shall be deemed to prevent a Judge who does not concur from delivering a dissenting judgment or opinion.146. Officers and servants and the expenses of the Supreme Court.—(1) Appointments of officers and servants of the Supreme Court shall be made by the Chief Justice of India or such other Judge or officer of the Court as he may direct:Provided that the President may by rule require that in such cases as may be' metadata={'source': '/content/india.pdf', 'page': 97}\"}\n"
          ]
        }
      ],
      "source": [
        "for document in results:\n",
        "    print(\"    \", document)"
      ]
    }
  ],
  "metadata": {
    "colab": {
      "provenance": []
    },
    "kernelspec": {
      "display_name": "Python 3",
      "name": "python3"
    },
    "language_info": {
      "name": "python"
    }
  },
  "nbformat": 4,
  "nbformat_minor": 0
}
